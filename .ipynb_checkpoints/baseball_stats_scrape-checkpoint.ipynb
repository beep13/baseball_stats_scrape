{
 "cells": [
  {
   "cell_type": "code",
   "execution_count": 1,
   "id": "a8e3e816",
   "metadata": {},
   "outputs": [],
   "source": [
    "import pandas as pd\n",
    "import re\n",
    "import requests\n",
    "from bs4 import BeautifulSoup"
   ]
  },
  {
   "cell_type": "code",
   "execution_count": 2,
   "id": "2bfce340",
   "metadata": {},
   "outputs": [],
   "source": [
    "url = 'http://www.espn.com/mlb/history/leaders/_/breakdown/season/year/2022/start/1'\n",
    "\n",
    "page = requests.get(url)\n",
    "soup = BeautifulSoup(page.text, 'html.parser')"
   ]
  },
  {
   "cell_type": "code",
   "execution_count": 3,
   "id": "c6860e51",
   "metadata": {
    "scrolled": true
   },
   "outputs": [
    {
     "name": "stdout",
     "output_type": "stream",
     "text": [
      "20\n",
      "Freddie Freeman\n",
      "12\n",
      "67\n",
      "262\n",
      "44\n",
      "79\n",
      "23\n",
      "2\n",
      "7\n",
      "42\n",
      "34\n",
      "49\n",
      "6\n",
      "0\n",
      ".302\n"
     ]
    }
   ],
   "source": [
    "row = soup.find('tr', attrs = {'class': 'evenrow player-10-30193'})\n",
    "for data in row.find_all('td'):\n",
    "    print(data.get_text())"
   ]
  },
  {
   "cell_type": "code",
   "execution_count": null,
   "id": "25b1dd93",
   "metadata": {},
   "outputs": [],
   "source": []
  }
 ],
 "metadata": {
  "kernelspec": {
   "display_name": "Python 3 (ipykernel)",
   "language": "python",
   "name": "python3"
  },
  "language_info": {
   "codemirror_mode": {
    "name": "ipython",
    "version": 3
   },
   "file_extension": ".py",
   "mimetype": "text/x-python",
   "name": "python",
   "nbconvert_exporter": "python",
   "pygments_lexer": "ipython3",
   "version": "3.9.12"
  }
 },
 "nbformat": 4,
 "nbformat_minor": 5
}
